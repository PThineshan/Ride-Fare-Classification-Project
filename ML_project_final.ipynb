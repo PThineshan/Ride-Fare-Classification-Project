{
  "nbformat": 4,
  "nbformat_minor": 0,
  "metadata": {
    "colab": {
      "name": "Copy of Thinesh_max.ipynb",
      "provenance": []
    },
    "kernelspec": {
      "name": "python3",
      "display_name": "Python 3"
    }
  },
  "cells": [
    {
      "cell_type": "code",
      "metadata": {
        "id": "TKNeT0EsRiNX",
        "colab_type": "code",
        "colab": {}
      },
      "source": [
        "import numpy as np\n",
        "import pandas as pd"
      ],
      "execution_count": null,
      "outputs": []
    },
    {
      "cell_type": "code",
      "metadata": {
        "id": "zMfJGslFR90U",
        "colab_type": "code",
        "colab": {}
      },
      "source": [
        "train_data = pd.read_csv(\"train.csv\", index_col=\"tripid\")\n",
        "test_features_df = pd.read_csv(\"test.csv\", index_col=\"tripid\")"
      ],
      "execution_count": null,
      "outputs": []
    },
    {
      "cell_type": "code",
      "metadata": {
        "id": "275O00jzAweC",
        "colab_type": "code",
        "colab": {}
      },
      "source": [
        "train_data=train_data.dropna(how='any',axis=0)"
      ],
      "execution_count": null,
      "outputs": []
    },
    {
      "cell_type": "code",
      "metadata": {
        "id": "vi6R6l-_AbWz",
        "colab_type": "code",
        "colab": {
          "base_uri": "https://localhost:8080/",
          "height": 69
        },
        "outputId": "05f5e74f-2b8c-4afe-f1be-c6e676b22b88"
      },
      "source": [
        "# check label counts\n",
        "train_data.label.value_counts()"
      ],
      "execution_count": null,
      "outputs": [
        {
          "output_type": "execute_result",
          "data": {
            "text/plain": [
              "correct      15442\n",
              "incorrect     1526\n",
              "Name: label, dtype: int64"
            ]
          },
          "metadata": {
            "tags": []
          },
          "execution_count": 414
        }
      ]
    },
    {
      "cell_type": "code",
      "metadata": {
        "id": "mdOBZC2L-1Yl",
        "colab_type": "code",
        "colab": {
          "base_uri": "https://localhost:8080/",
          "height": 297
        },
        "outputId": "cf6ef3ce-9830-4ca0-c9f2-7c5ac65ee9db"
      },
      "source": [
        "%matplotlib inline\n",
        "import matplotlib.pyplot as plt\n",
        "fig, ax = plt.subplots(1, 1, sharex=True)\n",
        "\n",
        "n_obs = train_data.label.shape[0]\n",
        "\n",
        "(train_data['label']\n",
        "    .value_counts()\n",
        "    .div(n_obs)\n",
        "    .plot.barh(title=\"Proportion of tripfare\")\n",
        ")\n",
        "ax.set_ylabel(\"label\")\n",
        "fig.tight_layout()"
      ],
      "execution_count": null,
      "outputs": [
        {
          "output_type": "display_data",
          "data": {
            "image/png": "[encoded data removed]",
            "text/plain": [
              "<Figure size 432x288 with 1 Axes>"
            ]
          },
          "metadata": {
            "tags": [],
            "needs_background": "light"
          }
        }
      ]
    },
    {
      "cell_type": "code",
      "metadata": {
        "id": "JS4P0E4As3Z8",
        "colab_type": "code",
        "colab": {}
      },
      "source": [
        "# # separate minority and majority classes\n",
        "# incorrect = train_data[train_data.label==\"incorrect\"]\n",
        "# correct = train_data[train_data.label==\"correct\"]\n",
        "\n",
        "# from sklearn.utils import resample\n",
        "# # upsample minority\n",
        "# incorrect_upsampled = resample(incorrect,\n",
        "#                           replace=True, # sample with replacement\n",
        "#                           n_samples=len(correct), # match number in majority class\n",
        "#                           random_state=27) # reproducible results\n",
        "\n",
        "# # combine majority and upsampled minority\n",
        "# upsampled_train_data = pd.concat([correct, incorrect_upsampled])\n",
        "\n",
        "# # check new class counts\n",
        "# upsampled_train_data.label.value_counts()"
      ],
      "execution_count": null,
      "outputs": []
    },
    {
      "cell_type": "code",
      "metadata": {
        "id": "6FrUpVboSEEY",
        "colab_type": "code",
        "colab": {}
      },
      "source": [
        "features_df = train_data.iloc[:, :12]\n",
        "labels_df = train_data.iloc[:, 12:]\n",
        "# features_df = upsampled_train_data.iloc[:, :12]\n",
        "# labels_df = upsampled_train_data.iloc[:, 12:]\n",
        "# Separate input features and target\n",
        "# labels_df = train_data.label\n",
        "# features_df = train_data.drop('label', axis=1)"
      ],
      "execution_count": null,
      "outputs": []
    },
    {
      "cell_type": "code",
      "metadata": {
        "id": "stjbvAxZSIml",
        "colab_type": "code",
        "colab": {}
      },
      "source": [
        "np.testing.assert_array_equal(features_df.index.values, labels_df.index.values)"
      ],
      "execution_count": null,
      "outputs": []
    },
    {
      "cell_type": "code",
      "metadata": {
        "id": "acDU-lf7SMWw",
        "colab_type": "code",
        "colab": {
          "base_uri": "https://localhost:8080/",
          "height": 35
        },
        "outputId": "a65a77db-2053-4e56-c8fe-165bba7937fc"
      },
      "source": [
        "features_df.shape, labels_df.shape"
      ],
      "execution_count": null,
      "outputs": [
        {
          "output_type": "execute_result",
          "data": {
            "text/plain": [
              "((16968, 12), (16968, 1))"
            ]
          },
          "metadata": {
            "tags": []
          },
          "execution_count": 418
        }
      ]
    },
    {
      "cell_type": "code",
      "metadata": {
        "id": "rcRM6rKBLgvW",
        "colab_type": "code",
        "colab": {}
      },
      "source": [
        "features_df['pickup_time'] = features_df['pickup_time'].astype('datetime64')\n",
        "test_features_df['pickup_time'] = test_features_df['pickup_time'].astype('datetime64')\n",
        "features_df['drop_time'] = features_df['drop_time'].astype('datetime64')\n",
        "test_features_df['drop_time'] = test_features_df['drop_time'].astype('datetime64')"
      ],
      "execution_count": null,
      "outputs": []
    },
    {
      "cell_type": "code",
      "metadata": {
        "id": "Bi_Ndw2Xqe47",
        "colab_type": "code",
        "colab": {}
      },
      "source": [
        "import datetime\n",
        "features_df['pick_up_day'] = features_df['pickup_time'].dt.dayofweek\n",
        "features_df['drop_day'] = features_df['drop_time'].dt.dayofweek\n",
        "test_features_df['pick_up_day'] = test_features_df['pickup_time'].dt.dayofweek\n",
        "test_features_df['drop_day'] = test_features_df['drop_time'].dt.dayofweek\n"
      ],
      "execution_count": null,
      "outputs": []
    },
    {
      "cell_type": "code",
      "metadata": {
        "id": "xEHpXOSCMKLh",
        "colab_type": "code",
        "colab": {}
      },
      "source": [
        "import datetime\n",
        "features_df['pick_up_hour'] = features_df['pickup_time'].dt.hour\n",
        "test_features_df['pick_up_hour'] = test_features_df['pickup_time'].dt.hour"
      ],
      "execution_count": null,
      "outputs": []
    },
    {
      "cell_type": "code",
      "metadata": {
        "id": "nHkYpS3ErJRO",
        "colab_type": "code",
        "colab": {
          "base_uri": "https://localhost:8080/",
          "height": 426
        },
        "outputId": "10761561-b42a-4876-e519-c2102aeb9286"
      },
      "source": [
        "features_df.head()"
      ],
      "execution_count": null,
      "outputs": [
        {
          "output_type": "execute_result",
          "data": {
            "text/html": [
              "<div>\n",
              "<style scoped>\n",
              "    .dataframe tbody tr th:only-of-type {\n",
              "        vertical-align: middle;\n",
              "    }\n",
              "\n",
              "    .dataframe tbody tr th {\n",
              "        vertical-align: top;\n",
              "    }\n",
              "\n",
              "    .dataframe thead th {\n",
              "        text-align: right;\n",
              "    }\n",
              "</style>\n",
              "<table border=\"1\" class=\"dataframe\">\n",
              "  <thead>\n",
              "    <tr style=\"text-align: right;\">\n",
              "      <th></th>\n",
              "      <th>additional_fare</th>\n",
              "      <th>duration</th>\n",
              "      <th>meter_waiting</th>\n",
              "      <th>meter_waiting_fare</th>\n",
              "      <th>meter_waiting_till_pickup</th>\n",
              "      <th>pickup_time</th>\n",
              "      <th>drop_time</th>\n",
              "      <th>pick_lat</th>\n",
              "      <th>pick_lon</th>\n",
              "      <th>drop_lat</th>\n",
              "      <th>drop_lon</th>\n",
              "      <th>fare</th>\n",
              "      <th>pick_up_day</th>\n",
              "      <th>drop_day</th>\n",
              "      <th>pick_up_hour</th>\n",
              "    </tr>\n",
              "    <tr>\n",
              "      <th>tripid</th>\n",
              "      <th></th>\n",
              "      <th></th>\n",
              "      <th></th>\n",
              "      <th></th>\n",
              "      <th></th>\n",
              "      <th></th>\n",
              "      <th></th>\n",
              "      <th></th>\n",
              "      <th></th>\n",
              "      <th></th>\n",
              "      <th></th>\n",
              "      <th></th>\n",
              "      <th></th>\n",
              "      <th></th>\n",
              "      <th></th>\n",
              "    </tr>\n",
              "  </thead>\n",
              "  <tbody>\n",
              "    <tr>\n",
              "      <th>189123628</th>\n",
              "      <td>10.5</td>\n",
              "      <td>834.0</td>\n",
              "      <td>56.0</td>\n",
              "      <td>0.0000</td>\n",
              "      <td>64.0</td>\n",
              "      <td>2019-11-01 00:20:00</td>\n",
              "      <td>2019-11-01 00:34:00</td>\n",
              "      <td>6.86252</td>\n",
              "      <td>79.8993</td>\n",
              "      <td>6.90330</td>\n",
              "      <td>79.8783</td>\n",
              "      <td>270.32</td>\n",
              "      <td>4</td>\n",
              "      <td>4</td>\n",
              "      <td>0</td>\n",
              "    </tr>\n",
              "    <tr>\n",
              "      <th>189125358</th>\n",
              "      <td>10.5</td>\n",
              "      <td>791.0</td>\n",
              "      <td>47.0</td>\n",
              "      <td>0.0000</td>\n",
              "      <td>134.0</td>\n",
              "      <td>2019-11-01 00:56:00</td>\n",
              "      <td>2019-11-01 01:09:00</td>\n",
              "      <td>6.88589</td>\n",
              "      <td>79.8984</td>\n",
              "      <td>6.91373</td>\n",
              "      <td>79.8923</td>\n",
              "      <td>197.85</td>\n",
              "      <td>4</td>\n",
              "      <td>4</td>\n",
              "      <td>0</td>\n",
              "    </tr>\n",
              "    <tr>\n",
              "      <th>189125719</th>\n",
              "      <td>10.5</td>\n",
              "      <td>1087.0</td>\n",
              "      <td>80.0</td>\n",
              "      <td>0.0000</td>\n",
              "      <td>61.0</td>\n",
              "      <td>2019-11-01 01:08:00</td>\n",
              "      <td>2019-11-01 01:26:00</td>\n",
              "      <td>6.90839</td>\n",
              "      <td>79.8651</td>\n",
              "      <td>6.93669</td>\n",
              "      <td>79.9146</td>\n",
              "      <td>301.64</td>\n",
              "      <td>4</td>\n",
              "      <td>4</td>\n",
              "      <td>1</td>\n",
              "    </tr>\n",
              "    <tr>\n",
              "      <th>189127273</th>\n",
              "      <td>10.5</td>\n",
              "      <td>598.0</td>\n",
              "      <td>271.0</td>\n",
              "      <td>15.6638</td>\n",
              "      <td>68.0</td>\n",
              "      <td>2019-11-01 02:27:00</td>\n",
              "      <td>2019-11-01 02:37:00</td>\n",
              "      <td>6.92570</td>\n",
              "      <td>79.8895</td>\n",
              "      <td>6.92748</td>\n",
              "      <td>79.8971</td>\n",
              "      <td>82.30</td>\n",
              "      <td>4</td>\n",
              "      <td>4</td>\n",
              "      <td>2</td>\n",
              "    </tr>\n",
              "    <tr>\n",
              "      <th>189129552</th>\n",
              "      <td>10.5</td>\n",
              "      <td>3407.0</td>\n",
              "      <td>182.0</td>\n",
              "      <td>0.0000</td>\n",
              "      <td>112.0</td>\n",
              "      <td>2019-11-01 05:38:00</td>\n",
              "      <td>2019-11-01 06:35:00</td>\n",
              "      <td>7.13402</td>\n",
              "      <td>79.8969</td>\n",
              "      <td>6.91865</td>\n",
              "      <td>79.8649</td>\n",
              "      <td>1065.02</td>\n",
              "      <td>4</td>\n",
              "      <td>4</td>\n",
              "      <td>5</td>\n",
              "    </tr>\n",
              "  </tbody>\n",
              "</table>\n",
              "</div>"
            ],
            "text/plain": [
              "           additional_fare  duration  ...  drop_day  pick_up_hour\n",
              "tripid                                ...                        \n",
              "189123628             10.5     834.0  ...         4             0\n",
              "189125358             10.5     791.0  ...         4             0\n",
              "189125719             10.5    1087.0  ...         4             1\n",
              "189127273             10.5     598.0  ...         4             2\n",
              "189129552             10.5    3407.0  ...         4             5\n",
              "\n",
              "[5 rows x 15 columns]"
            ]
          },
          "metadata": {
            "tags": []
          },
          "execution_count": 422
        }
      ]
    },
    {
      "cell_type": "code",
      "metadata": {
        "id": "u8yJ01-aIIoN",
        "colab_type": "code",
        "colab": {
          "base_uri": "https://localhost:8080/",
          "height": 426
        },
        "outputId": "bac181d6-0863-45b3-d210-ffb516444218"
      },
      "source": [
        "def distance(df):\n",
        "  from math import sin, cos, sqrt, atan2, radians\n",
        "  for index, row in df.iterrows():\n",
        "    \n",
        "    # approximate radius of earth in km\n",
        "    R = 6373.0\n",
        "\n",
        "    lat1 = radians(row['pick_lat'])\n",
        "    lon1 = radians(row['pick_lon'])\n",
        "    lat2 = radians(row['drop_lat'])\n",
        "    lon2 = radians(row['drop_lon'])\n",
        "  \n",
        "    dlon = lon2 - lon1\n",
        "    dlat = lat2 - lat1\n",
        "\n",
        "    a = sin(dlat / 2)**2 + cos(lat1) * cos(lat2) * sin(dlon / 2)**2\n",
        "    c = 2 * atan2(sqrt(a), sqrt(1 - a))\n",
        "\n",
        "    distance = R * c\n",
        "    \n",
        "    df.loc[index, 'distance'] = distance\n",
        "\n",
        "features_df['distance']=''\n",
        "test_features_df['distance']=''\n",
        "\n",
        "distance(features_df)\n",
        "distance(test_features_df)\n",
        "\n",
        "features_df['distance'] = features_df['distance'].astype(float)\n",
        "test_features_df['distance'] = test_features_df['distance'].astype(float)\n",
        "features_df.head()"
      ],
      "execution_count": null,
      "outputs": [
        {
          "output_type": "execute_result",
          "data": {
            "text/html": [
              "<div>\n",
              "<style scoped>\n",
              "    .dataframe tbody tr th:only-of-type {\n",
              "        vertical-align: middle;\n",
              "    }\n",
              "\n",
              "    .dataframe tbody tr th {\n",
              "        vertical-align: top;\n",
              "    }\n",
              "\n",
              "    .dataframe thead th {\n",
              "        text-align: right;\n",
              "    }\n",
              "</style>\n",
              "<table border=\"1\" class=\"dataframe\">\n",
              "  <thead>\n",
              "    <tr style=\"text-align: right;\">\n",
              "      <th></th>\n",
              "      <th>additional_fare</th>\n",
              "      <th>duration</th>\n",
              "      <th>meter_waiting</th>\n",
              "      <th>meter_waiting_fare</th>\n",
              "      <th>meter_waiting_till_pickup</th>\n",
              "      <th>pickup_time</th>\n",
              "      <th>drop_time</th>\n",
              "      <th>pick_lat</th>\n",
              "      <th>pick_lon</th>\n",
              "      <th>drop_lat</th>\n",
              "      <th>drop_lon</th>\n",
              "      <th>fare</th>\n",
              "      <th>pick_up_day</th>\n",
              "      <th>drop_day</th>\n",
              "      <th>pick_up_hour</th>\n",
              "      <th>distance</th>\n",
              "    </tr>\n",
              "    <tr>\n",
              "      <th>tripid</th>\n",
              "      <th></th>\n",
              "      <th></th>\n",
              "      <th></th>\n",
              "      <th></th>\n",
              "      <th></th>\n",
              "      <th></th>\n",
              "      <th></th>\n",
              "      <th></th>\n",
              "      <th></th>\n",
              "      <th></th>\n",
              "      <th></th>\n",
              "      <th></th>\n",
              "      <th></th>\n",
              "      <th></th>\n",
              "      <th></th>\n",
              "      <th></th>\n",
              "    </tr>\n",
              "  </thead>\n",
              "  <tbody>\n",
              "    <tr>\n",
              "      <th>189123628</th>\n",
              "      <td>10.5</td>\n",
              "      <td>834.0</td>\n",
              "      <td>56.0</td>\n",
              "      <td>0.0000</td>\n",
              "      <td>64.0</td>\n",
              "      <td>2019-11-01 00:20:00</td>\n",
              "      <td>2019-11-01 00:34:00</td>\n",
              "      <td>6.86252</td>\n",
              "      <td>79.8993</td>\n",
              "      <td>6.90330</td>\n",
              "      <td>79.8783</td>\n",
              "      <td>270.32</td>\n",
              "      <td>4</td>\n",
              "      <td>4</td>\n",
              "      <td>0</td>\n",
              "      <td>5.094369</td>\n",
              "    </tr>\n",
              "    <tr>\n",
              "      <th>189125358</th>\n",
              "      <td>10.5</td>\n",
              "      <td>791.0</td>\n",
              "      <td>47.0</td>\n",
              "      <td>0.0000</td>\n",
              "      <td>134.0</td>\n",
              "      <td>2019-11-01 00:56:00</td>\n",
              "      <td>2019-11-01 01:09:00</td>\n",
              "      <td>6.88589</td>\n",
              "      <td>79.8984</td>\n",
              "      <td>6.91373</td>\n",
              "      <td>79.8923</td>\n",
              "      <td>197.85</td>\n",
              "      <td>4</td>\n",
              "      <td>4</td>\n",
              "      <td>0</td>\n",
              "      <td>3.169052</td>\n",
              "    </tr>\n",
              "    <tr>\n",
              "      <th>189125719</th>\n",
              "      <td>10.5</td>\n",
              "      <td>1087.0</td>\n",
              "      <td>80.0</td>\n",
              "      <td>0.0000</td>\n",
              "      <td>61.0</td>\n",
              "      <td>2019-11-01 01:08:00</td>\n",
              "      <td>2019-11-01 01:26:00</td>\n",
              "      <td>6.90839</td>\n",
              "      <td>79.8651</td>\n",
              "      <td>6.93669</td>\n",
              "      <td>79.9146</td>\n",
              "      <td>301.64</td>\n",
              "      <td>4</td>\n",
              "      <td>4</td>\n",
              "      <td>1</td>\n",
              "      <td>6.307375</td>\n",
              "    </tr>\n",
              "    <tr>\n",
              "      <th>189127273</th>\n",
              "      <td>10.5</td>\n",
              "      <td>598.0</td>\n",
              "      <td>271.0</td>\n",
              "      <td>15.6638</td>\n",
              "      <td>68.0</td>\n",
              "      <td>2019-11-01 02:27:00</td>\n",
              "      <td>2019-11-01 02:37:00</td>\n",
              "      <td>6.92570</td>\n",
              "      <td>79.8895</td>\n",
              "      <td>6.92748</td>\n",
              "      <td>79.8971</td>\n",
              "      <td>82.30</td>\n",
              "      <td>4</td>\n",
              "      <td>4</td>\n",
              "      <td>2</td>\n",
              "      <td>0.862217</td>\n",
              "    </tr>\n",
              "    <tr>\n",
              "      <th>189129552</th>\n",
              "      <td>10.5</td>\n",
              "      <td>3407.0</td>\n",
              "      <td>182.0</td>\n",
              "      <td>0.0000</td>\n",
              "      <td>112.0</td>\n",
              "      <td>2019-11-01 05:38:00</td>\n",
              "      <td>2019-11-01 06:35:00</td>\n",
              "      <td>7.13402</td>\n",
              "      <td>79.8969</td>\n",
              "      <td>6.91865</td>\n",
              "      <td>79.8649</td>\n",
              "      <td>1065.02</td>\n",
              "      <td>4</td>\n",
              "      <td>4</td>\n",
              "      <td>5</td>\n",
              "      <td>24.214638</td>\n",
              "    </tr>\n",
              "  </tbody>\n",
              "</table>\n",
              "</div>"
            ],
            "text/plain": [
              "           additional_fare  duration  ...  pick_up_hour   distance\n",
              "tripid                                ...                         \n",
              "189123628             10.5     834.0  ...             0   5.094369\n",
              "189125358             10.5     791.0  ...             0   3.169052\n",
              "189125719             10.5    1087.0  ...             1   6.307375\n",
              "189127273             10.5     598.0  ...             2   0.862217\n",
              "189129552             10.5    3407.0  ...             5  24.214638\n",
              "\n",
              "[5 rows x 16 columns]"
            ]
          },
          "metadata": {
            "tags": []
          },
          "execution_count": 423
        }
      ]
    },
    {
      "cell_type": "code",
      "metadata": {
        "id": "N7Lyx7VVTL23",
        "colab_type": "code",
        "colab": {
          "base_uri": "https://localhost:8080/",
          "height": 426
        },
        "outputId": "8047f372-0f1b-4313-e92a-1aa3b0060344"
      },
      "source": [
        "def travelling_time(df):\n",
        "  for index, row in df.iterrows():\n",
        "    travel_time = row['duration'] - row['meter_waiting']\n",
        "    df.loc[index, 'travel_time'] = travel_time\n",
        "\n",
        "features_df['travel_time']=''\n",
        "test_features_df['travel_time']=''\n",
        "\n",
        "travelling_time(features_df)\n",
        "travelling_time(test_features_df)\n",
        "\n",
        "features_df['travel_time'] = features_df['travel_time'].astype(int)\n",
        "test_features_df['travel_time'] = test_features_df['travel_time'].astype(int)\n",
        "features_df.head()"
      ],
      "execution_count": null,
      "outputs": [
        {
          "output_type": "execute_result",
          "data": {
            "text/html": [
              "<div>\n",
              "<style scoped>\n",
              "    .dataframe tbody tr th:only-of-type {\n",
              "        vertical-align: middle;\n",
              "    }\n",
              "\n",
              "    .dataframe tbody tr th {\n",
              "        vertical-align: top;\n",
              "    }\n",
              "\n",
              "    .dataframe thead th {\n",
              "        text-align: right;\n",
              "    }\n",
              "</style>\n",
              "<table border=\"1\" class=\"dataframe\">\n",
              "  <thead>\n",
              "    <tr style=\"text-align: right;\">\n",
              "      <th></th>\n",
              "      <th>additional_fare</th>\n",
              "      <th>duration</th>\n",
              "      <th>meter_waiting</th>\n",
              "      <th>meter_waiting_fare</th>\n",
              "      <th>meter_waiting_till_pickup</th>\n",
              "      <th>pickup_time</th>\n",
              "      <th>drop_time</th>\n",
              "      <th>pick_lat</th>\n",
              "      <th>pick_lon</th>\n",
              "      <th>drop_lat</th>\n",
              "      <th>drop_lon</th>\n",
              "      <th>fare</th>\n",
              "      <th>pick_up_day</th>\n",
              "      <th>drop_day</th>\n",
              "      <th>pick_up_hour</th>\n",
              "      <th>distance</th>\n",
              "      <th>travel_time</th>\n",
              "    </tr>\n",
              "    <tr>\n",
              "      <th>tripid</th>\n",
              "      <th></th>\n",
              "      <th></th>\n",
              "      <th></th>\n",
              "      <th></th>\n",
              "      <th></th>\n",
              "      <th></th>\n",
              "      <th></th>\n",
              "      <th></th>\n",
              "      <th></th>\n",
              "      <th></th>\n",
              "      <th></th>\n",
              "      <th></th>\n",
              "      <th></th>\n",
              "      <th></th>\n",
              "      <th></th>\n",
              "      <th></th>\n",
              "      <th></th>\n",
              "    </tr>\n",
              "  </thead>\n",
              "  <tbody>\n",
              "    <tr>\n",
              "      <th>189123628</th>\n",
              "      <td>10.5</td>\n",
              "      <td>834.0</td>\n",
              "      <td>56.0</td>\n",
              "      <td>0.0000</td>\n",
              "      <td>64.0</td>\n",
              "      <td>2019-11-01 00:20:00</td>\n",
              "      <td>2019-11-01 00:34:00</td>\n",
              "      <td>6.86252</td>\n",
              "      <td>79.8993</td>\n",
              "      <td>6.90330</td>\n",
              "      <td>79.8783</td>\n",
              "      <td>270.32</td>\n",
              "      <td>4</td>\n",
              "      <td>4</td>\n",
              "      <td>0</td>\n",
              "      <td>5.094369</td>\n",
              "      <td>778</td>\n",
              "    </tr>\n",
              "    <tr>\n",
              "      <th>189125358</th>\n",
              "      <td>10.5</td>\n",
              "      <td>791.0</td>\n",
              "      <td>47.0</td>\n",
              "      <td>0.0000</td>\n",
              "      <td>134.0</td>\n",
              "      <td>2019-11-01 00:56:00</td>\n",
              "      <td>2019-11-01 01:09:00</td>\n",
              "      <td>6.88589</td>\n",
              "      <td>79.8984</td>\n",
              "      <td>6.91373</td>\n",
              "      <td>79.8923</td>\n",
              "      <td>197.85</td>\n",
              "      <td>4</td>\n",
              "      <td>4</td>\n",
              "      <td>0</td>\n",
              "      <td>3.169052</td>\n",
              "      <td>744</td>\n",
              "    </tr>\n",
              "    <tr>\n",
              "      <th>189125719</th>\n",
              "      <td>10.5</td>\n",
              "      <td>1087.0</td>\n",
              "      <td>80.0</td>\n",
              "      <td>0.0000</td>\n",
              "      <td>61.0</td>\n",
              "      <td>2019-11-01 01:08:00</td>\n",
              "      <td>2019-11-01 01:26:00</td>\n",
              "      <td>6.90839</td>\n",
              "      <td>79.8651</td>\n",
              "      <td>6.93669</td>\n",
              "      <td>79.9146</td>\n",
              "      <td>301.64</td>\n",
              "      <td>4</td>\n",
              "      <td>4</td>\n",
              "      <td>1</td>\n",
              "      <td>6.307375</td>\n",
              "      <td>1007</td>\n",
              "    </tr>\n",
              "    <tr>\n",
              "      <th>189127273</th>\n",
              "      <td>10.5</td>\n",
              "      <td>598.0</td>\n",
              "      <td>271.0</td>\n",
              "      <td>15.6638</td>\n",
              "      <td>68.0</td>\n",
              "      <td>2019-11-01 02:27:00</td>\n",
              "      <td>2019-11-01 02:37:00</td>\n",
              "      <td>6.92570</td>\n",
              "      <td>79.8895</td>\n",
              "      <td>6.92748</td>\n",
              "      <td>79.8971</td>\n",
              "      <td>82.30</td>\n",
              "      <td>4</td>\n",
              "      <td>4</td>\n",
              "      <td>2</td>\n",
              "      <td>0.862217</td>\n",
              "      <td>327</td>\n",
              "    </tr>\n",
              "    <tr>\n",
              "      <th>189129552</th>\n",
              "      <td>10.5</td>\n",
              "      <td>3407.0</td>\n",
              "      <td>182.0</td>\n",
              "      <td>0.0000</td>\n",
              "      <td>112.0</td>\n",
              "      <td>2019-11-01 05:38:00</td>\n",
              "      <td>2019-11-01 06:35:00</td>\n",
              "      <td>7.13402</td>\n",
              "      <td>79.8969</td>\n",
              "      <td>6.91865</td>\n",
              "      <td>79.8649</td>\n",
              "      <td>1065.02</td>\n",
              "      <td>4</td>\n",
              "      <td>4</td>\n",
              "      <td>5</td>\n",
              "      <td>24.214638</td>\n",
              "      <td>3225</td>\n",
              "    </tr>\n",
              "  </tbody>\n",
              "</table>\n",
              "</div>"
            ],
            "text/plain": [
              "           additional_fare  duration  ...   distance  travel_time\n",
              "tripid                                ...                        \n",
              "189123628             10.5     834.0  ...   5.094369          778\n",
              "189125358             10.5     791.0  ...   3.169052          744\n",
              "189125719             10.5    1087.0  ...   6.307375         1007\n",
              "189127273             10.5     598.0  ...   0.862217          327\n",
              "189129552             10.5    3407.0  ...  24.214638         3225\n",
              "\n",
              "[5 rows x 17 columns]"
            ]
          },
          "metadata": {
            "tags": []
          },
          "execution_count": 424
        }
      ]
    },
    {
      "cell_type": "code",
      "metadata": {
        "id": "E-In3WT5l-kl",
        "colab_type": "code",
        "colab": {
          "base_uri": "https://localhost:8080/",
          "height": 426
        },
        "outputId": "4c9b71cc-6b14-4e0f-c47c-4fac18fdfebe"
      },
      "source": [
        "def travel_fare(df):\n",
        "  for index, row in df.iterrows():\n",
        "    travel_fare = row['fare'] - row['additional_fare'] - row['meter_waiting_fare'] \n",
        "    df.loc[index, 'travel_fare'] = travel_fare\n",
        "\n",
        "features_df['travel_fare']=''\n",
        "test_features_df['travel_fare']=''\n",
        "\n",
        "travel_fare(features_df)\n",
        "travel_fare(test_features_df)\n",
        "\n",
        "features_df['travel_fare'] = round(features_df['travel_fare'].astype(float), 2)\n",
        "test_features_df['travel_fare'] = round(test_features_df['travel_fare'].astype(float), 2)\n",
        "features_df.head()"
      ],
      "execution_count": null,
      "outputs": [
        {
          "output_type": "execute_result",
          "data": {
            "text/html": [
              "<div>\n",
              "<style scoped>\n",
              "    .dataframe tbody tr th:only-of-type {\n",
              "        vertical-align: middle;\n",
              "    }\n",
              "\n",
              "    .dataframe tbody tr th {\n",
              "        vertical-align: top;\n",
              "    }\n",
              "\n",
              "    .dataframe thead th {\n",
              "        text-align: right;\n",
              "    }\n",
              "</style>\n",
              "<table border=\"1\" class=\"dataframe\">\n",
              "  <thead>\n",
              "    <tr style=\"text-align: right;\">\n",
              "      <th></th>\n",
              "      <th>additional_fare</th>\n",
              "      <th>duration</th>\n",
              "      <th>meter_waiting</th>\n",
              "      <th>meter_waiting_fare</th>\n",
              "      <th>meter_waiting_till_pickup</th>\n",
              "      <th>pickup_time</th>\n",
              "      <th>drop_time</th>\n",
              "      <th>pick_lat</th>\n",
              "      <th>pick_lon</th>\n",
              "      <th>drop_lat</th>\n",
              "      <th>drop_lon</th>\n",
              "      <th>fare</th>\n",
              "      <th>pick_up_day</th>\n",
              "      <th>drop_day</th>\n",
              "      <th>pick_up_hour</th>\n",
              "      <th>distance</th>\n",
              "      <th>travel_time</th>\n",
              "      <th>travel_fare</th>\n",
              "    </tr>\n",
              "    <tr>\n",
              "      <th>tripid</th>\n",
              "      <th></th>\n",
              "      <th></th>\n",
              "      <th></th>\n",
              "      <th></th>\n",
              "      <th></th>\n",
              "      <th></th>\n",
              "      <th></th>\n",
              "      <th></th>\n",
              "      <th></th>\n",
              "      <th></th>\n",
              "      <th></th>\n",
              "      <th></th>\n",
              "      <th></th>\n",
              "      <th></th>\n",
              "      <th></th>\n",
              "      <th></th>\n",
              "      <th></th>\n",
              "      <th></th>\n",
              "    </tr>\n",
              "  </thead>\n",
              "  <tbody>\n",
              "    <tr>\n",
              "      <th>189123628</th>\n",
              "      <td>10.5</td>\n",
              "      <td>834.0</td>\n",
              "      <td>56.0</td>\n",
              "      <td>0.0000</td>\n",
              "      <td>64.0</td>\n",
              "      <td>2019-11-01 00:20:00</td>\n",
              "      <td>2019-11-01 00:34:00</td>\n",
              "      <td>6.86252</td>\n",
              "      <td>79.8993</td>\n",
              "      <td>6.90330</td>\n",
              "      <td>79.8783</td>\n",
              "      <td>270.32</td>\n",
              "      <td>4</td>\n",
              "      <td>4</td>\n",
              "      <td>0</td>\n",
              "      <td>5.094369</td>\n",
              "      <td>778</td>\n",
              "      <td>259.82</td>\n",
              "    </tr>\n",
              "    <tr>\n",
              "      <th>189125358</th>\n",
              "      <td>10.5</td>\n",
              "      <td>791.0</td>\n",
              "      <td>47.0</td>\n",
              "      <td>0.0000</td>\n",
              "      <td>134.0</td>\n",
              "      <td>2019-11-01 00:56:00</td>\n",
              "      <td>2019-11-01 01:09:00</td>\n",
              "      <td>6.88589</td>\n",
              "      <td>79.8984</td>\n",
              "      <td>6.91373</td>\n",
              "      <td>79.8923</td>\n",
              "      <td>197.85</td>\n",
              "      <td>4</td>\n",
              "      <td>4</td>\n",
              "      <td>0</td>\n",
              "      <td>3.169052</td>\n",
              "      <td>744</td>\n",
              "      <td>187.35</td>\n",
              "    </tr>\n",
              "    <tr>\n",
              "      <th>189125719</th>\n",
              "      <td>10.5</td>\n",
              "      <td>1087.0</td>\n",
              "      <td>80.0</td>\n",
              "      <td>0.0000</td>\n",
              "      <td>61.0</td>\n",
              "      <td>2019-11-01 01:08:00</td>\n",
              "      <td>2019-11-01 01:26:00</td>\n",
              "      <td>6.90839</td>\n",
              "      <td>79.8651</td>\n",
              "      <td>6.93669</td>\n",
              "      <td>79.9146</td>\n",
              "      <td>301.64</td>\n",
              "      <td>4</td>\n",
              "      <td>4</td>\n",
              "      <td>1</td>\n",
              "      <td>6.307375</td>\n",
              "      <td>1007</td>\n",
              "      <td>291.14</td>\n",
              "    </tr>\n",
              "    <tr>\n",
              "      <th>189127273</th>\n",
              "      <td>10.5</td>\n",
              "      <td>598.0</td>\n",
              "      <td>271.0</td>\n",
              "      <td>15.6638</td>\n",
              "      <td>68.0</td>\n",
              "      <td>2019-11-01 02:27:00</td>\n",
              "      <td>2019-11-01 02:37:00</td>\n",
              "      <td>6.92570</td>\n",
              "      <td>79.8895</td>\n",
              "      <td>6.92748</td>\n",
              "      <td>79.8971</td>\n",
              "      <td>82.30</td>\n",
              "      <td>4</td>\n",
              "      <td>4</td>\n",
              "      <td>2</td>\n",
              "      <td>0.862217</td>\n",
              "      <td>327</td>\n",
              "      <td>56.14</td>\n",
              "    </tr>\n",
              "    <tr>\n",
              "      <th>189129552</th>\n",
              "      <td>10.5</td>\n",
              "      <td>3407.0</td>\n",
              "      <td>182.0</td>\n",
              "      <td>0.0000</td>\n",
              "      <td>112.0</td>\n",
              "      <td>2019-11-01 05:38:00</td>\n",
              "      <td>2019-11-01 06:35:00</td>\n",
              "      <td>7.13402</td>\n",
              "      <td>79.8969</td>\n",
              "      <td>6.91865</td>\n",
              "      <td>79.8649</td>\n",
              "      <td>1065.02</td>\n",
              "      <td>4</td>\n",
              "      <td>4</td>\n",
              "      <td>5</td>\n",
              "      <td>24.214638</td>\n",
              "      <td>3225</td>\n",
              "      <td>1054.52</td>\n",
              "    </tr>\n",
              "  </tbody>\n",
              "</table>\n",
              "</div>"
            ],
            "text/plain": [
              "           additional_fare  duration  ...  travel_time  travel_fare\n",
              "tripid                                ...                          \n",
              "189123628             10.5     834.0  ...          778       259.82\n",
              "189125358             10.5     791.0  ...          744       187.35\n",
              "189125719             10.5    1087.0  ...         1007       291.14\n",
              "189127273             10.5     598.0  ...          327        56.14\n",
              "189129552             10.5    3407.0  ...         3225      1054.52\n",
              "\n",
              "[5 rows x 18 columns]"
            ]
          },
          "metadata": {
            "tags": []
          },
          "execution_count": 425
        }
      ]
    },
    {
      "cell_type": "code",
      "metadata": {
        "id": "W-q-TYDl20lK",
        "colab_type": "code",
        "colab": {}
      },
      "source": [
        "features_df=features_df.drop(['pickup_time'], axis=1)\n",
        "features_df=features_df.drop(['drop_time'], axis=1)\n",
        "test_features_df=test_features_df.drop(['pickup_time'], axis=1)\n",
        "test_features_df=test_features_df.drop(['drop_time'], axis=1)"
      ],
      "execution_count": null,
      "outputs": []
    },
    {
      "cell_type": "code",
      "metadata": {
        "id": "AWbvySYhn71U",
        "colab_type": "code",
        "colab": {}
      },
      "source": [
        "col = ['additional_fare', 'duration', 'meter_waiting', 'meter_waiting_fare', 'meter_waiting_till_pickup', 'pick_lat',\n",
        "'pick_lon', 'drop_lat', 'drop_lon', 'fare', 'pick_up_day', 'distance', 'travel_time', 'pick_up_hour', 'drop_day', 'travel_fare'] \n",
        "\n",
        "features_df=features_df[col] \n",
        "test_features_df=test_features_df[col]\n"
      ],
      "execution_count": null,
      "outputs": []
    },
    {
      "cell_type": "code",
      "metadata": {
        "id": "cfzW8crkLNPz",
        "colab_type": "code",
        "colab": {
          "base_uri": "https://localhost:8080/",
          "height": 253
        },
        "outputId": "66478986-d7f7-41e5-df2d-a26c8556cde4"
      },
      "source": [
        "features_df.head()"
      ],
      "execution_count": null,
      "outputs": [
        {
          "output_type": "execute_result",
          "data": {
            "text/html": [
              "<div>\n",
              "<style scoped>\n",
              "    .dataframe tbody tr th:only-of-type {\n",
              "        vertical-align: middle;\n",
              "    }\n",
              "\n",
              "    .dataframe tbody tr th {\n",
              "        vertical-align: top;\n",
              "    }\n",
              "\n",
              "    .dataframe thead th {\n",
              "        text-align: right;\n",
              "    }\n",
              "</style>\n",
              "<table border=\"1\" class=\"dataframe\">\n",
              "  <thead>\n",
              "    <tr style=\"text-align: right;\">\n",
              "      <th></th>\n",
              "      <th>additional_fare</th>\n",
              "      <th>duration</th>\n",
              "      <th>meter_waiting</th>\n",
              "      <th>meter_waiting_fare</th>\n",
              "      <th>meter_waiting_till_pickup</th>\n",
              "      <th>pick_lat</th>\n",
              "      <th>pick_lon</th>\n",
              "      <th>drop_lat</th>\n",
              "      <th>drop_lon</th>\n",
              "      <th>fare</th>\n",
              "      <th>pick_up_day</th>\n",
              "      <th>distance</th>\n",
              "      <th>travel_time</th>\n",
              "      <th>pick_up_hour</th>\n",
              "      <th>drop_day</th>\n",
              "      <th>travel_fare</th>\n",
              "    </tr>\n",
              "    <tr>\n",
              "      <th>tripid</th>\n",
              "      <th></th>\n",
              "      <th></th>\n",
              "      <th></th>\n",
              "      <th></th>\n",
              "      <th></th>\n",
              "      <th></th>\n",
              "      <th></th>\n",
              "      <th></th>\n",
              "      <th></th>\n",
              "      <th></th>\n",
              "      <th></th>\n",
              "      <th></th>\n",
              "      <th></th>\n",
              "      <th></th>\n",
              "      <th></th>\n",
              "      <th></th>\n",
              "    </tr>\n",
              "  </thead>\n",
              "  <tbody>\n",
              "    <tr>\n",
              "      <th>189123628</th>\n",
              "      <td>10.5</td>\n",
              "      <td>834.0</td>\n",
              "      <td>56.0</td>\n",
              "      <td>0.0000</td>\n",
              "      <td>64.0</td>\n",
              "      <td>6.86252</td>\n",
              "      <td>79.8993</td>\n",
              "      <td>6.90330</td>\n",
              "      <td>79.8783</td>\n",
              "      <td>270.32</td>\n",
              "      <td>4</td>\n",
              "      <td>5.094369</td>\n",
              "      <td>778</td>\n",
              "      <td>0</td>\n",
              "      <td>4</td>\n",
              "      <td>259.82</td>\n",
              "    </tr>\n",
              "    <tr>\n",
              "      <th>189125358</th>\n",
              "      <td>10.5</td>\n",
              "      <td>791.0</td>\n",
              "      <td>47.0</td>\n",
              "      <td>0.0000</td>\n",
              "      <td>134.0</td>\n",
              "      <td>6.88589</td>\n",
              "      <td>79.8984</td>\n",
              "      <td>6.91373</td>\n",
              "      <td>79.8923</td>\n",
              "      <td>197.85</td>\n",
              "      <td>4</td>\n",
              "      <td>3.169052</td>\n",
              "      <td>744</td>\n",
              "      <td>0</td>\n",
              "      <td>4</td>\n",
              "      <td>187.35</td>\n",
              "    </tr>\n",
              "    <tr>\n",
              "      <th>189125719</th>\n",
              "      <td>10.5</td>\n",
              "      <td>1087.0</td>\n",
              "      <td>80.0</td>\n",
              "      <td>0.0000</td>\n",
              "      <td>61.0</td>\n",
              "      <td>6.90839</td>\n",
              "      <td>79.8651</td>\n",
              "      <td>6.93669</td>\n",
              "      <td>79.9146</td>\n",
              "      <td>301.64</td>\n",
              "      <td>4</td>\n",
              "      <td>6.307375</td>\n",
              "      <td>1007</td>\n",
              "      <td>1</td>\n",
              "      <td>4</td>\n",
              "      <td>291.14</td>\n",
              "    </tr>\n",
              "    <tr>\n",
              "      <th>189127273</th>\n",
              "      <td>10.5</td>\n",
              "      <td>598.0</td>\n",
              "      <td>271.0</td>\n",
              "      <td>15.6638</td>\n",
              "      <td>68.0</td>\n",
              "      <td>6.92570</td>\n",
              "      <td>79.8895</td>\n",
              "      <td>6.92748</td>\n",
              "      <td>79.8971</td>\n",
              "      <td>82.30</td>\n",
              "      <td>4</td>\n",
              "      <td>0.862217</td>\n",
              "      <td>327</td>\n",
              "      <td>2</td>\n",
              "      <td>4</td>\n",
              "      <td>56.14</td>\n",
              "    </tr>\n",
              "    <tr>\n",
              "      <th>189129552</th>\n",
              "      <td>10.5</td>\n",
              "      <td>3407.0</td>\n",
              "      <td>182.0</td>\n",
              "      <td>0.0000</td>\n",
              "      <td>112.0</td>\n",
              "      <td>7.13402</td>\n",
              "      <td>79.8969</td>\n",
              "      <td>6.91865</td>\n",
              "      <td>79.8649</td>\n",
              "      <td>1065.02</td>\n",
              "      <td>4</td>\n",
              "      <td>24.214638</td>\n",
              "      <td>3225</td>\n",
              "      <td>5</td>\n",
              "      <td>4</td>\n",
              "      <td>1054.52</td>\n",
              "    </tr>\n",
              "  </tbody>\n",
              "</table>\n",
              "</div>"
            ],
            "text/plain": [
              "           additional_fare  duration  ...  drop_day  travel_fare\n",
              "tripid                                ...                       \n",
              "189123628             10.5     834.0  ...         4       259.82\n",
              "189125358             10.5     791.0  ...         4       187.35\n",
              "189125719             10.5    1087.0  ...         4       291.14\n",
              "189127273             10.5     598.0  ...         4        56.14\n",
              "189129552             10.5    3407.0  ...         4      1054.52\n",
              "\n",
              "[5 rows x 16 columns]"
            ]
          },
          "metadata": {
            "tags": []
          },
          "execution_count": 428
        }
      ]
    },
    {
      "cell_type": "code",
      "metadata": {
        "id": "WCJ4NjZTOBDG",
        "colab_type": "code",
        "colab": {
          "base_uri": "https://localhost:8080/",
          "height": 253
        },
        "outputId": "75c1989c-bc88-427a-a0e8-f81b597ef9bf"
      },
      "source": [
        "test_features_df.head()"
      ],
      "execution_count": null,
      "outputs": [
        {
          "output_type": "execute_result",
          "data": {
            "text/html": [
              "<div>\n",
              "<style scoped>\n",
              "    .dataframe tbody tr th:only-of-type {\n",
              "        vertical-align: middle;\n",
              "    }\n",
              "\n",
              "    .dataframe tbody tr th {\n",
              "        vertical-align: top;\n",
              "    }\n",
              "\n",
              "    .dataframe thead th {\n",
              "        text-align: right;\n",
              "    }\n",
              "</style>\n",
              "<table border=\"1\" class=\"dataframe\">\n",
              "  <thead>\n",
              "    <tr style=\"text-align: right;\">\n",
              "      <th></th>\n",
              "      <th>additional_fare</th>\n",
              "      <th>duration</th>\n",
              "      <th>meter_waiting</th>\n",
              "      <th>meter_waiting_fare</th>\n",
              "      <th>meter_waiting_till_pickup</th>\n",
              "      <th>pick_lat</th>\n",
              "      <th>pick_lon</th>\n",
              "      <th>drop_lat</th>\n",
              "      <th>drop_lon</th>\n",
              "      <th>fare</th>\n",
              "      <th>pick_up_day</th>\n",
              "      <th>distance</th>\n",
              "      <th>travel_time</th>\n",
              "      <th>pick_up_hour</th>\n",
              "      <th>drop_day</th>\n",
              "      <th>travel_fare</th>\n",
              "    </tr>\n",
              "    <tr>\n",
              "      <th>tripid</th>\n",
              "      <th></th>\n",
              "      <th></th>\n",
              "      <th></th>\n",
              "      <th></th>\n",
              "      <th></th>\n",
              "      <th></th>\n",
              "      <th></th>\n",
              "      <th></th>\n",
              "      <th></th>\n",
              "      <th></th>\n",
              "      <th></th>\n",
              "      <th></th>\n",
              "      <th></th>\n",
              "      <th></th>\n",
              "      <th></th>\n",
              "      <th></th>\n",
              "    </tr>\n",
              "  </thead>\n",
              "  <tbody>\n",
              "    <tr>\n",
              "      <th>213284604</th>\n",
              "      <td>10.5</td>\n",
              "      <td>924</td>\n",
              "      <td>42</td>\n",
              "      <td>2.4486</td>\n",
              "      <td>148</td>\n",
              "      <td>6.83454</td>\n",
              "      <td>79.8750</td>\n",
              "      <td>6.77490</td>\n",
              "      <td>79.8840</td>\n",
              "      <td>289.27</td>\n",
              "      <td>5</td>\n",
              "      <td>6.707807</td>\n",
              "      <td>882</td>\n",
              "      <td>0</td>\n",
              "      <td>5</td>\n",
              "      <td>276.32</td>\n",
              "    </tr>\n",
              "    <tr>\n",
              "      <th>213286352</th>\n",
              "      <td>10.5</td>\n",
              "      <td>4249</td>\n",
              "      <td>20</td>\n",
              "      <td>0.0000</td>\n",
              "      <td>91</td>\n",
              "      <td>6.91168</td>\n",
              "      <td>79.8723</td>\n",
              "      <td>6.55091</td>\n",
              "      <td>79.9706</td>\n",
              "      <td>1912.70</td>\n",
              "      <td>5</td>\n",
              "      <td>41.571559</td>\n",
              "      <td>4229</td>\n",
              "      <td>1</td>\n",
              "      <td>5</td>\n",
              "      <td>1902.20</td>\n",
              "    </tr>\n",
              "    <tr>\n",
              "      <th>213293973</th>\n",
              "      <td>10.5</td>\n",
              "      <td>1552</td>\n",
              "      <td>255</td>\n",
              "      <td>2.6588</td>\n",
              "      <td>23</td>\n",
              "      <td>6.92145</td>\n",
              "      <td>79.8478</td>\n",
              "      <td>6.90539</td>\n",
              "      <td>79.8989</td>\n",
              "      <td>394.00</td>\n",
              "      <td>5</td>\n",
              "      <td>5.918535</td>\n",
              "      <td>1297</td>\n",
              "      <td>5</td>\n",
              "      <td>5</td>\n",
              "      <td>380.84</td>\n",
              "    </tr>\n",
              "    <tr>\n",
              "      <th>213294622</th>\n",
              "      <td>10.5</td>\n",
              "      <td>462</td>\n",
              "      <td>16</td>\n",
              "      <td>0.0000</td>\n",
              "      <td>198</td>\n",
              "      <td>6.77433</td>\n",
              "      <td>79.9416</td>\n",
              "      <td>6.80401</td>\n",
              "      <td>79.9407</td>\n",
              "      <td>154.32</td>\n",
              "      <td>5</td>\n",
              "      <td>3.302798</td>\n",
              "      <td>446</td>\n",
              "      <td>5</td>\n",
              "      <td>5</td>\n",
              "      <td>143.82</td>\n",
              "    </tr>\n",
              "    <tr>\n",
              "      <th>213298687</th>\n",
              "      <td>10.5</td>\n",
              "      <td>814</td>\n",
              "      <td>392</td>\n",
              "      <td>12.3692</td>\n",
              "      <td>69</td>\n",
              "      <td>6.97968</td>\n",
              "      <td>79.9130</td>\n",
              "      <td>6.98875</td>\n",
              "      <td>79.8914</td>\n",
              "      <td>147.47</td>\n",
              "      <td>5</td>\n",
              "      <td>2.589354</td>\n",
              "      <td>422</td>\n",
              "      <td>7</td>\n",
              "      <td>5</td>\n",
              "      <td>124.60</td>\n",
              "    </tr>\n",
              "  </tbody>\n",
              "</table>\n",
              "</div>"
            ],
            "text/plain": [
              "           additional_fare  duration  ...  drop_day  travel_fare\n",
              "tripid                                ...                       \n",
              "213284604             10.5       924  ...         5       276.32\n",
              "213286352             10.5      4249  ...         5      1902.20\n",
              "213293973             10.5      1552  ...         5       380.84\n",
              "213294622             10.5       462  ...         5       143.82\n",
              "213298687             10.5       814  ...         5       124.60\n",
              "\n",
              "[5 rows x 16 columns]"
            ]
          },
          "metadata": {
            "tags": []
          },
          "execution_count": 429
        }
      ]
    },
    {
      "cell_type": "code",
      "metadata": {
        "id": "ETclTgV8Ujyx",
        "colab_type": "code",
        "colab": {
          "base_uri": "https://localhost:8080/",
          "height": 233
        },
        "outputId": "41e6d7b6-d918-4a9c-e912-df0d1d07c33b"
      },
      "source": [
        "labels_df.head()"
      ],
      "execution_count": null,
      "outputs": [
        {
          "output_type": "execute_result",
          "data": {
            "text/html": [
              "<div>\n",
              "<style scoped>\n",
              "    .dataframe tbody tr th:only-of-type {\n",
              "        vertical-align: middle;\n",
              "    }\n",
              "\n",
              "    .dataframe tbody tr th {\n",
              "        vertical-align: top;\n",
              "    }\n",
              "\n",
              "    .dataframe thead th {\n",
              "        text-align: right;\n",
              "    }\n",
              "</style>\n",
              "<table border=\"1\" class=\"dataframe\">\n",
              "  <thead>\n",
              "    <tr style=\"text-align: right;\">\n",
              "      <th></th>\n",
              "      <th>label</th>\n",
              "    </tr>\n",
              "    <tr>\n",
              "      <th>tripid</th>\n",
              "      <th></th>\n",
              "    </tr>\n",
              "  </thead>\n",
              "  <tbody>\n",
              "    <tr>\n",
              "      <th>189123628</th>\n",
              "      <td>correct</td>\n",
              "    </tr>\n",
              "    <tr>\n",
              "      <th>189125358</th>\n",
              "      <td>correct</td>\n",
              "    </tr>\n",
              "    <tr>\n",
              "      <th>189125719</th>\n",
              "      <td>correct</td>\n",
              "    </tr>\n",
              "    <tr>\n",
              "      <th>189127273</th>\n",
              "      <td>correct</td>\n",
              "    </tr>\n",
              "    <tr>\n",
              "      <th>189129552</th>\n",
              "      <td>correct</td>\n",
              "    </tr>\n",
              "  </tbody>\n",
              "</table>\n",
              "</div>"
            ],
            "text/plain": [
              "             label\n",
              "tripid            \n",
              "189123628  correct\n",
              "189125358  correct\n",
              "189125719  correct\n",
              "189127273  correct\n",
              "189129552  correct"
            ]
          },
          "metadata": {
            "tags": []
          },
          "execution_count": 430
        }
      ]
    },
    {
      "cell_type": "code",
      "metadata": {
        "id": "zRrbX00oSUqE",
        "colab_type": "code",
        "colab": {
          "base_uri": "https://localhost:8080/",
          "height": 233
        },
        "outputId": "d0439d2e-8ff5-4b4f-9107-ecdb8a4a922c"
      },
      "source": [
        "# #Label Encoding for object to numeric conversion\n",
        "# from sklearn.preprocessing import LabelEncoder\n",
        "# le = LabelEncoder()\n",
        "\n",
        "# labels_df[\"label\"] = le.fit_transform(labels_df[\"label\"].astype(str))\n",
        "def tran_label_to_num(df):\n",
        "    if df['label'] == 'correct':\n",
        "        return 1\n",
        "    elif df['label'] == 'incorrect':\n",
        "        return 0\n",
        "# create sex_new \n",
        "labels_df['label']=labels_df.apply(tran_label_to_num,axis=1)\n",
        "labels_df.head()"
      ],
      "execution_count": null,
      "outputs": [
        {
          "output_type": "execute_result",
          "data": {
            "text/html": [
              "<div>\n",
              "<style scoped>\n",
              "    .dataframe tbody tr th:only-of-type {\n",
              "        vertical-align: middle;\n",
              "    }\n",
              "\n",
              "    .dataframe tbody tr th {\n",
              "        vertical-align: top;\n",
              "    }\n",
              "\n",
              "    .dataframe thead th {\n",
              "        text-align: right;\n",
              "    }\n",
              "</style>\n",
              "<table border=\"1\" class=\"dataframe\">\n",
              "  <thead>\n",
              "    <tr style=\"text-align: right;\">\n",
              "      <th></th>\n",
              "      <th>label</th>\n",
              "    </tr>\n",
              "    <tr>\n",
              "      <th>tripid</th>\n",
              "      <th></th>\n",
              "    </tr>\n",
              "  </thead>\n",
              "  <tbody>\n",
              "    <tr>\n",
              "      <th>189123628</th>\n",
              "      <td>1</td>\n",
              "    </tr>\n",
              "    <tr>\n",
              "      <th>189125358</th>\n",
              "      <td>1</td>\n",
              "    </tr>\n",
              "    <tr>\n",
              "      <th>189125719</th>\n",
              "      <td>1</td>\n",
              "    </tr>\n",
              "    <tr>\n",
              "      <th>189127273</th>\n",
              "      <td>1</td>\n",
              "    </tr>\n",
              "    <tr>\n",
              "      <th>189129552</th>\n",
              "      <td>1</td>\n",
              "    </tr>\n",
              "  </tbody>\n",
              "</table>\n",
              "</div>"
            ],
            "text/plain": [
              "           label\n",
              "tripid          \n",
              "189123628      1\n",
              "189125358      1\n",
              "189125719      1\n",
              "189127273      1\n",
              "189129552      1"
            ]
          },
          "metadata": {
            "tags": []
          },
          "execution_count": 431
        }
      ]
    },
    {
      "cell_type": "code",
      "metadata": {
        "id": "v8LNSHTUU0B6",
        "colab_type": "code",
        "colab": {}
      },
      "source": [
        "from sklearn.preprocessing import StandardScaler\n",
        "from sklearn.impute import SimpleImputer\n",
        "from sklearn.compose import ColumnTransformer\n",
        "\n",
        "from sklearn.linear_model import LogisticRegression\n",
        "from sklearn.multioutput import MultiOutputClassifier\n",
        "\n",
        "from sklearn.pipeline import Pipeline\n",
        "\n",
        "from sklearn.model_selection import train_test_split\n",
        "\n",
        "from sklearn.metrics import roc_curve, roc_auc_score\n",
        "\n",
        "RANDOM_SEED = 6    # Set a random seed for reproducibility!"
      ],
      "execution_count": null,
      "outputs": []
    },
    {
      "cell_type": "code",
      "metadata": {
        "id": "wlWXup-AU4Hx",
        "colab_type": "code",
        "colab": {
          "base_uri": "https://localhost:8080/",
          "height": 104
        },
        "outputId": "2fdbd995-22e0-4445-8bda-62161778a2af"
      },
      "source": [
        "numeric_cols = features_df.columns[features_df.dtypes != \"object\"].values\n",
        "print(numeric_cols)\n",
        "print(numeric_cols.size)"
      ],
      "execution_count": null,
      "outputs": [
        {
          "output_type": "stream",
          "text": [
            "['additional_fare' 'duration' 'meter_waiting' 'meter_waiting_fare'\n",
            " 'meter_waiting_till_pickup' 'pick_lat' 'pick_lon' 'drop_lat' 'drop_lon'\n",
            " 'fare' 'pick_up_day' 'distance' 'travel_time' 'pick_up_hour' 'drop_day'\n",
            " 'travel_fare']\n",
            "16\n"
          ],
          "name": "stdout"
        }
      ]
    },
    {
      "cell_type": "code",
      "metadata": {
        "id": "_bggjBw-U6Xb",
        "colab_type": "code",
        "colab": {}
      },
      "source": [
        "# chain preprocessing into a Pipeline object\n",
        "# each step is a tuple of (name you chose, sklearn transformer)\n",
        "numeric_preprocessing_steps = Pipeline([\n",
        "    ('standard_scaler', StandardScaler()),\n",
        "    ('simple_imputer', SimpleImputer(strategy='median'))\n",
        "])\n",
        "\n",
        "# create the preprocessor stage of final pipeline\n",
        "# each entry in the transformer list is a tuple of\n",
        "# (name you choose, sklearn transformer, list of columns)\n",
        "preprocessor = ColumnTransformer(\n",
        "    transformers = [\n",
        "        (\"numeric\", numeric_preprocessing_steps, numeric_cols)\n",
        "    ],\n",
        "    remainder = \"drop\"\n",
        ")"
      ],
      "execution_count": null,
      "outputs": []
    },
    {
      "cell_type": "code",
      "metadata": {
        "id": "UAmpPutWU_E4",
        "colab_type": "code",
        "colab": {}
      },
      "source": [
        "from xgboost import XGBClassifier\n",
        "estimators = MultiOutputClassifier(\n",
        "    estimator=XGBClassifier(learning_rate =0.01,\n",
        " n_estimators=3000,\n",
        " max_depth=4,\n",
        " min_child_weight=6,\n",
        " gamma=0,\n",
        " subsample=0.8,\n",
        " colsample_bytree=0.8,\n",
        " reg_alpha=0.005,\n",
        " objective= 'binary:logistic',\n",
        " nthread=4,\n",
        " scale_pos_weight=1,\n",
        " seed=27)\n",
        ")"
      ],
      "execution_count": null,
      "outputs": []
    },
    {
      "cell_type": "code",
      "metadata": {
        "id": "d6YOv5ZjVIzO",
        "colab_type": "code",
        "colab": {}
      },
      "source": [
        "X_train, X_eval, y_train, y_eval = train_test_split(\n",
        "    features_df,\n",
        "    labels_df,\n",
        "    test_size=0.33,\n",
        "    shuffle=True,\n",
        "    stratify=labels_df,\n",
        "    random_state=RANDOM_SEED\n",
        ")"
      ],
      "execution_count": null,
      "outputs": []
    },
    {
      "cell_type": "code",
      "metadata": {
        "id": "JduB9H9fVTXA",
        "colab_type": "code",
        "colab": {
          "base_uri": "https://localhost:8080/",
          "height": 35
        },
        "outputId": "ef2f8f79-1e68-47e6-896c-b7cfc0967f31"
      },
      "source": [
        "X_train.shape,y_train.shape"
      ],
      "execution_count": null,
      "outputs": [
        {
          "output_type": "execute_result",
          "data": {
            "text/plain": [
              "((11368, 16), (11368, 1))"
            ]
          },
          "metadata": {
            "tags": []
          },
          "execution_count": 437
        }
      ]
    },
    {
      "cell_type": "code",
      "metadata": {
        "id": "RDTqAQUwVVVC",
        "colab_type": "code",
        "colab": {
          "base_uri": "https://localhost:8080/",
          "height": 52
        },
        "outputId": "24ebf5d9-eebc-481a-ff28-a5d51e5252bd"
      },
      "source": [
        "%%time\n",
        "full_pipeline = Pipeline([\n",
        "    (\"preprocessor\", preprocessor),\n",
        "    (\"estimators\", estimators),\n",
        "])\n",
        "# Train model\n",
        "full_pipeline.fit(X_train, y_train)"
      ],
      "execution_count": null,
      "outputs": [
        {
          "output_type": "stream",
          "text": [
            "CPU times: user 54.7 s, sys: 1.48 s, total: 56.2 s\n",
            "Wall time: 30.9 s\n"
          ],
          "name": "stdout"
        }
      ]
    },
    {
      "cell_type": "code",
      "metadata": {
        "id": "8SIBP-nkY9nw",
        "colab_type": "code",
        "colab": {
          "base_uri": "https://localhost:8080/",
          "height": 139
        },
        "outputId": "db2bc5cd-5b96-4568-ac82-c0e4349e63ca"
      },
      "source": [
        "y_pred = full_pipeline.predict(X_eval)\n",
        "y_pred"
      ],
      "execution_count": null,
      "outputs": [
        {
          "output_type": "execute_result",
          "data": {
            "text/plain": [
              "array([[0],\n",
              "       [1],\n",
              "       [1],\n",
              "       ...,\n",
              "       [1],\n",
              "       [1],\n",
              "       [1]])"
            ]
          },
          "metadata": {
            "tags": []
          },
          "execution_count": 439
        }
      ]
    },
    {
      "cell_type": "code",
      "metadata": {
        "id": "ysO-zvjp8z3i",
        "colab_type": "code",
        "colab": {
          "base_uri": "https://localhost:8080/",
          "height": 35
        },
        "outputId": "4f11bfcb-a5f8-4398-8429-554fa0c50c0b"
      },
      "source": [
        " from sklearn.metrics import accuracy_score\n",
        " accuracy_score(y_eval, y_pred)\n",
        " # 0.95375 n_estimators=5000\n",
        " # 0.9539285714285715 n_estimators=5000\n",
        " # 0.9548214285714286 n_estimators=3000"
      ],
      "execution_count": null,
      "outputs": [
        {
          "output_type": "execute_result",
          "data": {
            "text/plain": [
              "0.9548214285714286"
            ]
          },
          "metadata": {
            "tags": []
          },
          "execution_count": 440
        }
      ]
    },
    {
      "cell_type": "code",
      "metadata": {
        "id": "t5Hnqj8XxUJZ",
        "colab_type": "code",
        "colab": {
          "base_uri": "https://localhost:8080/",
          "height": 35
        },
        "outputId": "f205f80d-679e-4d97-e806-6cfd70b5ba4b"
      },
      "source": [
        " from sklearn.metrics import f1_score\n",
        "f1_score(y_eval, y_pred, average='macro')\n",
        "# 0.8349567404365886\n",
        "# 0.8364775489378964\n",
        "# 0.8387801364110306"
      ],
      "execution_count": null,
      "outputs": [
        {
          "output_type": "execute_result",
          "data": {
            "text/plain": [
              "0.8387801364110306"
            ]
          },
          "metadata": {
            "tags": []
          },
          "execution_count": 441
        }
      ]
    },
    {
      "cell_type": "code",
      "metadata": {
        "id": "u0soz1knqkfY",
        "colab_type": "code",
        "colab": {
          "base_uri": "https://localhost:8080/",
          "height": 52
        },
        "outputId": "f55c7e8f-ff9e-4d15-b76c-ba127fcb3677"
      },
      "source": [
        "%%time\n",
        "full_pipeline = Pipeline([\n",
        "    (\"preprocessor\", preprocessor),\n",
        "    (\"estimators\", estimators),\n",
        "])\n",
        "# Train model\n",
        "full_pipeline.fit(features_df, labels_df)"
      ],
      "execution_count": null,
      "outputs": [
        {
          "output_type": "stream",
          "text": [
            "CPU times: user 1min 19s, sys: 1.61 s, total: 1min 21s\n",
            "Wall time: 44.5 s\n"
          ],
          "name": "stdout"
        }
      ]
    },
    {
      "cell_type": "code",
      "metadata": {
        "id": "0usNkUiZWAG1",
        "colab_type": "code",
        "colab": {
          "base_uri": "https://localhost:8080/",
          "height": 139
        },
        "outputId": "96f4b0ca-e449-4999-cc1e-ee6b7c67e209"
      },
      "source": [
        "test_probas = full_pipeline.predict(test_features_df)\n",
        "test_probas"
      ],
      "execution_count": null,
      "outputs": [
        {
          "output_type": "execute_result",
          "data": {
            "text/plain": [
              "array([[1],\n",
              "       [1],\n",
              "       [1],\n",
              "       ...,\n",
              "       [1],\n",
              "       [1],\n",
              "       [1]])"
            ]
          },
          "metadata": {
            "tags": []
          },
          "execution_count": 443
        }
      ]
    },
    {
      "cell_type": "code",
      "metadata": {
        "id": "CRTy8hl2X4BX",
        "colab_type": "code",
        "colab": {}
      },
      "source": [
        "submission_df = pd.read_csv(\"sample_submission.csv\", \n",
        "                            index_col=\"tripid\")"
      ],
      "execution_count": null,
      "outputs": []
    },
    {
      "cell_type": "code",
      "metadata": {
        "id": "DMVQzVWlWXzE",
        "colab_type": "code",
        "colab": {
          "base_uri": "https://localhost:8080/",
          "height": 446
        },
        "outputId": "7a3d675b-9c76-44ef-8098-c21505a66d53"
      },
      "source": [
        "# Make sure we have the rows in the same order\n",
        "np.testing.assert_array_equal(test_features_df.index.values, \n",
        "                              submission_df.index.values)\n",
        "\n",
        "# Save predictions to submission data frame\n",
        "submission_df[\"prediction\"] = test_probas[:, 0]\n",
        "\n",
        "\n",
        "submission_df"
      ],
      "execution_count": null,
      "outputs": [
        {
          "output_type": "execute_result",
          "data": {
            "text/html": [
              "<div>\n",
              "<style scoped>\n",
              "    .dataframe tbody tr th:only-of-type {\n",
              "        vertical-align: middle;\n",
              "    }\n",
              "\n",
              "    .dataframe tbody tr th {\n",
              "        vertical-align: top;\n",
              "    }\n",
              "\n",
              "    .dataframe thead th {\n",
              "        text-align: right;\n",
              "    }\n",
              "</style>\n",
              "<table border=\"1\" class=\"dataframe\">\n",
              "  <thead>\n",
              "    <tr style=\"text-align: right;\">\n",
              "      <th></th>\n",
              "      <th>prediction</th>\n",
              "    </tr>\n",
              "    <tr>\n",
              "      <th>tripid</th>\n",
              "      <th></th>\n",
              "    </tr>\n",
              "  </thead>\n",
              "  <tbody>\n",
              "    <tr>\n",
              "      <th>213284604</th>\n",
              "      <td>1</td>\n",
              "    </tr>\n",
              "    <tr>\n",
              "      <th>213286352</th>\n",
              "      <td>1</td>\n",
              "    </tr>\n",
              "    <tr>\n",
              "      <th>213293973</th>\n",
              "      <td>1</td>\n",
              "    </tr>\n",
              "    <tr>\n",
              "      <th>213294622</th>\n",
              "      <td>1</td>\n",
              "    </tr>\n",
              "    <tr>\n",
              "      <th>213298687</th>\n",
              "      <td>1</td>\n",
              "    </tr>\n",
              "    <tr>\n",
              "      <th>...</th>\n",
              "      <td>...</td>\n",
              "    </tr>\n",
              "    <tr>\n",
              "      <th>222856243</th>\n",
              "      <td>1</td>\n",
              "    </tr>\n",
              "    <tr>\n",
              "      <th>222857785</th>\n",
              "      <td>1</td>\n",
              "    </tr>\n",
              "    <tr>\n",
              "      <th>222858416</th>\n",
              "      <td>1</td>\n",
              "    </tr>\n",
              "    <tr>\n",
              "      <th>222858691</th>\n",
              "      <td>1</td>\n",
              "    </tr>\n",
              "    <tr>\n",
              "      <th>222860703</th>\n",
              "      <td>1</td>\n",
              "    </tr>\n",
              "  </tbody>\n",
              "</table>\n",
              "<p>8576 rows × 1 columns</p>\n",
              "</div>"
            ],
            "text/plain": [
              "           prediction\n",
              "tripid               \n",
              "213284604           1\n",
              "213286352           1\n",
              "213293973           1\n",
              "213294622           1\n",
              "213298687           1\n",
              "...               ...\n",
              "222856243           1\n",
              "222857785           1\n",
              "222858416           1\n",
              "222858691           1\n",
              "222860703           1\n",
              "\n",
              "[8576 rows x 1 columns]"
            ]
          },
          "metadata": {
            "tags": []
          },
          "execution_count": 445
        }
      ]
    },
    {
      "cell_type": "code",
      "metadata": {
        "id": "q5oqMaiWWaVK",
        "colab_type": "code",
        "colab": {}
      },
      "source": [
        "submission_df.to_csv('ML_submission.csv', index=True)"
      ],
      "execution_count": null,
      "outputs": []
    },
    {
      "cell_type": "code",
      "metadata": {
        "id": "y8DWvBCZWdLf",
        "colab_type": "code",
        "colab": {
          "base_uri": "https://localhost:8080/",
          "height": 191
        },
        "outputId": "9e34d589-aef5-4e4d-d7cc-1a8e44a5b04d"
      },
      "source": [
        "!head ML_submission.csv"
      ],
      "execution_count": null,
      "outputs": [
        {
          "output_type": "stream",
          "text": [
            "tripid,prediction\n",
            "213284604,1\n",
            "213286352,1\n",
            "213293973,1\n",
            "213294622,1\n",
            "213298687,1\n",
            "213299545,1\n",
            "213302332,1\n",
            "213302671,1\n",
            "213305594,1\n"
          ],
          "name": "stdout"
        }
      ]
    }
  ]
}